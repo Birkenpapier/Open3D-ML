{
 "cells": [
  {
   "cell_type": "code",
   "execution_count": 14,
   "metadata": {},
   "outputs": [],
   "source": [
    "from open3d.ml import utils\n",
    "import open3d.ml.torch as ml3d"
   ]
  },
  {
   "cell_type": "code",
   "execution_count": 15,
   "metadata": {},
   "outputs": [],
   "source": [
    "cfg_file = \"../../../ml3d/configs/randlanet_semantickitti.yml\"\n",
    "cfg = utils.Config.load_from_file(cfg_file)"
   ]
  },
  {
   "cell_type": "code",
   "execution_count": 3,
   "metadata": {},
   "outputs": [
    {
     "data": {
      "text/plain": [
       "<ml3d.utils.config.Config at 0x7fda47eb9f50>"
      ]
     },
     "execution_count": 3,
     "metadata": {},
     "output_type": "execute_result"
    }
   ],
   "source": [
    "cfg"
   ]
  },
  {
   "cell_type": "code",
   "execution_count": 18,
   "metadata": {},
   "outputs": [
    {
     "data": {
      "text/plain": [
       "{'name': 'SemanticKITTI',\n",
       " 'dataset_path': None,\n",
       " 'cache_dir': './logs/cache',\n",
       " 'class_weights': [55437630,\n",
       "  320797,\n",
       "  541736,\n",
       "  2578735,\n",
       "  3274484,\n",
       "  552662,\n",
       "  184064,\n",
       "  78858,\n",
       "  240942562,\n",
       "  17294618,\n",
       "  170599734,\n",
       "  6369672,\n",
       "  230413074,\n",
       "  101130274,\n",
       "  476491114,\n",
       "  9833174,\n",
       "  129609852,\n",
       "  4506626,\n",
       "  1168181],\n",
       " 'test_result_folder': './test',\n",
       " 'test_split': ['11',\n",
       "  '12',\n",
       "  '13',\n",
       "  '14',\n",
       "  '15',\n",
       "  '16',\n",
       "  '17',\n",
       "  '18',\n",
       "  '19',\n",
       "  '20',\n",
       "  '21'],\n",
       " 'training_split': ['00',\n",
       "  '01',\n",
       "  '02',\n",
       "  '03',\n",
       "  '04',\n",
       "  '05',\n",
       "  '06',\n",
       "  '07',\n",
       "  '09',\n",
       "  '10'],\n",
       " 'all_split': ['00',\n",
       "  '01',\n",
       "  '02',\n",
       "  '03',\n",
       "  '04',\n",
       "  '05',\n",
       "  '06',\n",
       "  '07',\n",
       "  '09',\n",
       "  '08',\n",
       "  '10',\n",
       "  '11',\n",
       "  '12',\n",
       "  '13',\n",
       "  '14',\n",
       "  '15',\n",
       "  '16',\n",
       "  '17',\n",
       "  '18',\n",
       "  '19',\n",
       "  '20',\n",
       "  '21'],\n",
       " 'validation_split': ['08'],\n",
       " 'use_cache': True,\n",
       " 'sampler': {'name': 'SemSegRandomSampler'}}"
      ]
     },
     "execution_count": 18,
     "metadata": {},
     "output_type": "execute_result"
    }
   ],
   "source": [
    "cfg.dataset"
   ]
  },
  {
   "cell_type": "code",
   "execution_count": 20,
   "metadata": {},
   "outputs": [
    {
     "data": {
      "text/plain": [
       "{'name': 'RandLANet',\n",
       " 'batcher': 'DefaultBatcher',\n",
       " 'ckpt_path': None,\n",
       " 'num_neighbors': 16,\n",
       " 'num_layers': 4,\n",
       " 'num_points': 45056,\n",
       " 'num_classes': 19,\n",
       " 'ignored_label_inds': [0],\n",
       " 'sub_sampling_ratio': [4, 4, 4, 4],\n",
       " 'in_channels': 3,\n",
       " 'dim_features': 8,\n",
       " 'dim_output': [16, 64, 128, 256],\n",
       " 'grid_size': 0.06,\n",
       " 'augment': {'recenter': {'dim': [0, 1]}}}"
      ]
     },
     "execution_count": 20,
     "metadata": {},
     "output_type": "execute_result"
    }
   ],
   "source": [
    "cfg.model"
   ]
  },
  {
   "cell_type": "code",
   "execution_count": 9,
   "metadata": {},
   "outputs": [
    {
     "data": {
      "text/plain": [
       "{'name': 'SemanticSegmentation',\n",
       " 'optimizer': {'lr': 0.001},\n",
       " 'batch_size': 4,\n",
       " 'main_log_dir': './logs',\n",
       " 'max_epoch': 100,\n",
       " 'save_ckpt_freq': 5,\n",
       " 'scheduler_gamma': 0.9886,\n",
       " 'test_batch_size': 1,\n",
       " 'train_sum_dir': 'train_log',\n",
       " 'val_batch_size': 2,\n",
       " 'summary': {'record_for': [],\n",
       "  'max_pts': None,\n",
       "  'use_reference': False,\n",
       "  'max_outputs': 1}}"
      ]
     },
     "execution_count": 9,
     "metadata": {},
     "output_type": "execute_result"
    }
   ],
   "source": [
    "cfg.pipeline"
   ]
  },
  {
   "cell_type": "code",
   "execution_count": 10,
   "metadata": {},
   "outputs": [],
   "source": [
    "dataset = ml3d.datasets.SemanticKITTI(cfg.dataset)"
   ]
  },
  {
   "cell_type": "code",
   "execution_count": 22,
   "metadata": {},
   "outputs": [
    {
     "data": {
      "text/plain": [
       "{'cfg': <ml3d.utils.config.Config at 0x7fda48577050>,\n",
       " 'name': 'SemanticKITTI',\n",
       " 'rng': Generator(PCG64) at 0x7FDA4855C450,\n",
       " 'label_to_names': {0: 'unlabeled',\n",
       "  1: 'car',\n",
       "  2: 'bicycle',\n",
       "  3: 'motorcycle',\n",
       "  4: 'truck',\n",
       "  5: 'other-vehicle',\n",
       "  6: 'person',\n",
       "  7: 'bicyclist',\n",
       "  8: 'motorcyclist',\n",
       "  9: 'road',\n",
       "  10: 'parking',\n",
       "  11: 'sidewalk',\n",
       "  12: 'other-ground',\n",
       "  13: 'building',\n",
       "  14: 'fence',\n",
       "  15: 'vegetation',\n",
       "  16: 'trunk',\n",
       "  17: 'terrain',\n",
       "  18: 'pole',\n",
       "  19: 'traffic-sign'},\n",
       " 'num_classes': 20,\n",
       " 'remap_lut_val': array([ 0,  0,  0,  0,  0,  0,  0,  0,  0,  0,  1,  2,  0,  5,  0,  3,  5,\n",
       "         0,  4,  0,  5,  0,  0,  0,  0,  0,  0,  0,  0,  0,  6,  7,  8,  0,\n",
       "         0,  0,  0,  0,  0,  0,  9,  0,  0,  0, 10,  0,  0,  0, 11, 12, 13,\n",
       "        14,  0,  0,  0,  0,  0,  0,  0,  0,  9,  0,  0,  0,  0,  0,  0,  0,\n",
       "         0,  0, 15, 16, 17,  0,  0,  0,  0,  0,  0,  0, 18, 19,  0,  0,  0,\n",
       "         0,  0,  0,  0,  0,  0,  0,  0,  0,  0,  0,  0,  0,  0,  0,  0,  0,\n",
       "         0,  0,  0,  0,  0,  0,  0,  0,  0,  0,  0,  0,  0,  0,  0,  0,  0,\n",
       "         0,  0,  0,  0,  0,  0,  0,  0,  0,  0,  0,  0,  0,  0,  0,  0,  0,\n",
       "         0,  0,  0,  0,  0,  0,  0,  0,  0,  0,  0,  0,  0,  0,  0,  0,  0,\n",
       "         0,  0,  0,  0,  0,  0,  0,  0,  0,  0,  0,  0,  0,  0,  0,  0,  0,\n",
       "         0,  0,  0,  0,  0,  0,  0,  0,  0,  0,  0,  0,  0,  0,  0,  0,  0,\n",
       "         0,  0,  0,  0,  0,  0,  0,  0,  0,  0,  0,  0,  0,  0,  0,  0,  0,\n",
       "         0,  0,  0,  0,  0,  0,  0,  0,  0,  0,  0,  0,  0,  0,  0,  0,  0,\n",
       "         0,  0,  0,  0,  0,  0,  0,  0,  0,  0,  0,  0,  0,  0,  0,  0,  0,\n",
       "         0,  0,  0,  0,  0,  0,  0,  0,  0,  0,  0,  0,  0,  0,  1,  7,  6,\n",
       "         8,  5,  5,  4,  5,  0,  0,  0,  0,  0,  0,  0,  0,  0,  0,  0,  0,\n",
       "         0,  0,  0,  0,  0,  0,  0,  0,  0,  0,  0,  0,  0,  0,  0,  0,  0,\n",
       "         0,  0,  0,  0,  0,  0,  0,  0,  0,  0,  0,  0,  0,  0,  0,  0,  0,\n",
       "         0,  0,  0,  0,  0,  0,  0,  0,  0,  0,  0,  0,  0,  0,  0,  0,  0,\n",
       "         0,  0,  0,  0,  0,  0,  0,  0,  0,  0,  0,  0,  0,  0,  0,  0,  0,\n",
       "         0,  0,  0,  0,  0,  0,  0,  0,  0,  0,  0,  0,  0,  0,  0,  0,  0,\n",
       "         0,  0], dtype=int32),\n",
       " 'remap_lut': array([ 0, 10, 11, 15, 18, 20, 30, 31, 32, 40, 44, 48, 49, 50, 51, 70, 71,\n",
       "        72, 80, 81,  0,  0,  0,  0,  0,  0,  0,  0,  0,  0,  0,  0,  0,  0,\n",
       "         0,  0,  0,  0,  0,  0,  0,  0,  0,  0,  0,  0,  0,  0,  0,  0,  0,\n",
       "         0,  0,  0,  0,  0,  0,  0,  0,  0,  0,  0,  0,  0,  0,  0,  0,  0,\n",
       "         0,  0,  0,  0,  0,  0,  0,  0,  0,  0,  0,  0,  0,  0,  0,  0,  0,\n",
       "         0,  0,  0,  0,  0,  0,  0,  0,  0,  0,  0,  0,  0,  0,  0,  0,  0,\n",
       "         0,  0,  0,  0,  0,  0,  0,  0,  0,  0,  0,  0,  0,  0,  0,  0,  0],\n",
       "       dtype=int32)}"
      ]
     },
     "execution_count": 22,
     "metadata": {},
     "output_type": "execute_result"
    }
   ],
   "source": [
    "vars(dataset)"
   ]
  },
  {
   "cell_type": "code",
   "execution_count": 13,
   "metadata": {},
   "outputs": [
    {
     "data": {
      "text/plain": [
       "20"
      ]
     },
     "execution_count": 13,
     "metadata": {},
     "output_type": "execute_result"
    }
   ],
   "source": [
    "dataset.num_classes"
   ]
  },
  {
   "cell_type": "code",
   "execution_count": null,
   "metadata": {},
   "outputs": [],
   "source": []
  }
 ],
 "metadata": {
  "kernelspec": {
   "display_name": "Python 3",
   "language": "python",
   "name": "python3"
  },
  "language_info": {
   "codemirror_mode": {
    "name": "ipython",
    "version": 3
   },
   "file_extension": ".py",
   "mimetype": "text/x-python",
   "name": "python",
   "nbconvert_exporter": "python",
   "pygments_lexer": "ipython3",
   "version": "3.7.7"
  }
 },
 "nbformat": 4,
 "nbformat_minor": 4
}
