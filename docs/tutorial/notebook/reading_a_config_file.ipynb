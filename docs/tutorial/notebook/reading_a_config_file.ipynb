{
 "cells": [
  {
   "cell_type": "markdown",
   "metadata": {},
   "source": [
    "# Reading a *config* file"
   ]
  },
  {
   "cell_type": "markdown",
   "metadata": {},
   "source": [
    "In other examples, we examine the following snippet of code which creates a dataset:\n",
    "\n",
    "```py\n",
    "# Read a dataset by specifying the path. We are also providing the cache directory and training split.\n",
    "\n",
    "dataset = ml3d.datasets.SemanticKITTI(dataset_path='SemanticKITTI/', cache_dir='./logs/cache',training_split=['00'], validation_split=['01'], test_split=['01'])\n",
    "```\n",
    "\n",
    "In the code above, the `dataset` object is created by explicitly passing dataset-spcific parameters into `ml3d.datasets.SemanticKITTI()` method.\n",
    "\n",
    "Instead of passing a bunch of parameters to a function call as part of `dataset` object creation, we can supply `dataset` information from a specific *config* file. Each *config* file contains information specific to a given dataset.\n",
    "\n",
    ">***Config* files pass `dataset` information into Open3D-ML in YAML format.**\n",
    "\n",
    ">>>Do they hold any configuration-specific information???\n",
    "\n",
    "// When a `dataset` object data is read by Open3D-ML, `dataset` parameters are parsed by Open3D-ML subsystem based on configuration information in the _config_ YAML files.\n",
    "\n",
    "// In this example, we will be reading a *config* file and parsing `dataset` information from it.\n",
    "\n",
    "In this example, we will:\n",
    "\n",
    "- Load a *config* `cfg_file` into an `cfg` object;\n",
    "- Parse `dataset` dictionaries from the `cfg` object;\n",
    "- Access individual dictionaries in the `cfg` object;\n",
    "- Access individual elements from within dictionaries.\n",
    "\n",
    "\n",
    "## Loading a *config* file"
   ]
  },
  {
   "cell_type": "code",
   "execution_count": 1,
   "metadata": {},
   "outputs": [
    {
     "name": "stdout",
     "output_type": "stream",
     "text": [
      "Jupyter environment detected. Enabling Open3D WebVisualizer.\n",
      "[Open3D INFO] WebRTC GUI backend enabled.\n",
      "[Open3D INFO] WebRTCWindowSystem: HTTP handshake server disabled.\n",
      "\n",
      "--------------------------------------------------------------------------------\n",
      "\n",
      " Using the Open3D PyTorch ops with CUDA 11 may have stability issues!\n",
      "\n",
      " We recommend to compile PyTorch from source with compile flags\n",
      "   '-Xcompiler -fno-gnu-unique'\n",
      "\n",
      " or use the PyTorch wheels at\n",
      "   https://github.com/isl-org/open3d_downloads/releases/tag/torch1.8.2\n",
      "\n",
      "\n",
      " Ignore this message if PyTorch has been compiled with the aforementioned\n",
      " flags.\n",
      "\n",
      " See https://github.com/isl-org/Open3D/issues/3324 and\n",
      " https://github.com/pytorch/pytorch/issues/52663 for more information on this\n",
      " problem.\n",
      "\n",
      "--------------------------------------------------------------------------------\n",
      "\n"
     ]
    },
    {
     "name": "stderr",
     "output_type": "stream",
     "text": [
      "2022-03-21 11:19:34.531469: W tensorflow/stream_executor/platform/default/dso_loader.cc:64] Could not load dynamic library 'libcudart.so.11.0'; dlerror: libcudart.so.11.0: cannot open shared object file: No such file or directory\n",
      "2022-03-21 11:19:34.531795: I tensorflow/stream_executor/cuda/cudart_stub.cc:29] Ignore above cudart dlerror if you do not have a GPU set up on your machine.\n"
     ]
    }
   ],
   "source": [
    "from open3d.ml import utils\n",
    "import open3d.ml.torch as ml3d"
   ]
  },
  {
   "cell_type": "markdown",
   "metadata": {},
   "source": [
    "Here, we instantiate two objects:\n",
    "    \n",
    "    1. `utils` - Open3D-ML utilities\n",
    "    2. `ml3d` - Open3D-ML Torch library object\n",
    "\n",
    "Now, we'll create *config*-specific objects:"
   ]
  },
  {
   "cell_type": "code",
   "execution_count": 2,
   "metadata": {},
   "outputs": [],
   "source": [
    "cfg_file = \"../../../ml3d/configs/randlanet_semantickitti.yml\"\n",
    "cfg = utils.Config.load_from_file(cfg_file)"
   ]
  },
  {
   "cell_type": "markdown",
   "metadata": {},
   "source": [
    "The `cfg_file` holds the full path to the particular *config* file - `randlanet_semantickitti.yml`.\n",
    "The `cfg` object is initialized by the Open3D-ML `utils.Config.load_from_file()` method to hold configuration data read from the `cfg_file`.\n",
    "\n",
    "## Examining Dataset Dictionaries in the `cfg` Object\n",
    "\n",
    "To find out what type the `cfg` object is, we can enter it in the next code cell:"
   ]
  },
  {
   "cell_type": "code",
   "execution_count": 3,
   "metadata": {},
   "outputs": [
    {
     "data": {
      "text/plain": [
       "<open3d._ml3d.utils.config.Config at 0x7f095de03fd0>"
      ]
     },
     "execution_count": 3,
     "metadata": {},
     "output_type": "execute_result"
    }
   ],
   "source": [
    "cfg"
   ]
  },
  {
   "cell_type": "markdown",
   "metadata": {},
   "source": [
    "Open3D-ML confirms the `cfg` is of `ml3d.utils.config.Config` type. The `cfg` object contains three dictionaries: `dataset`, `model`, and `pipeline`.\n",
    "\n",
    "Now, let's explore them. The first one to look at is the `cfg.dataset`:"
   ]
  },
  {
   "cell_type": "code",
   "execution_count": 4,
   "metadata": {},
   "outputs": [
    {
     "data": {
      "text/plain": [
       "{'name': 'SemanticKITTI',\n",
       " 'dataset_path': None,\n",
       " 'cache_dir': './logs/cache',\n",
       " 'class_weights': [55437630,\n",
       "  320797,\n",
       "  541736,\n",
       "  2578735,\n",
       "  3274484,\n",
       "  552662,\n",
       "  184064,\n",
       "  78858,\n",
       "  240942562,\n",
       "  17294618,\n",
       "  170599734,\n",
       "  6369672,\n",
       "  230413074,\n",
       "  101130274,\n",
       "  476491114,\n",
       "  9833174,\n",
       "  129609852,\n",
       "  4506626,\n",
       "  1168181],\n",
       " 'test_result_folder': './test',\n",
       " 'test_split': ['11',\n",
       "  '12',\n",
       "  '13',\n",
       "  '14',\n",
       "  '15',\n",
       "  '16',\n",
       "  '17',\n",
       "  '18',\n",
       "  '19',\n",
       "  '20',\n",
       "  '21'],\n",
       " 'training_split': ['00',\n",
       "  '01',\n",
       "  '02',\n",
       "  '03',\n",
       "  '04',\n",
       "  '05',\n",
       "  '06',\n",
       "  '07',\n",
       "  '09',\n",
       "  '10'],\n",
       " 'all_split': ['00',\n",
       "  '01',\n",
       "  '02',\n",
       "  '03',\n",
       "  '04',\n",
       "  '05',\n",
       "  '06',\n",
       "  '07',\n",
       "  '09',\n",
       "  '08',\n",
       "  '10',\n",
       "  '11',\n",
       "  '12',\n",
       "  '13',\n",
       "  '14',\n",
       "  '15',\n",
       "  '16',\n",
       "  '17',\n",
       "  '18',\n",
       "  '19',\n",
       "  '20',\n",
       "  '21'],\n",
       " 'validation_split': ['08'],\n",
       " 'use_cache': True,\n",
       " 'sampler': {'name': 'SemSegRandomSampler'}}"
      ]
     },
     "execution_count": 4,
     "metadata": {},
     "output_type": "execute_result"
    }
   ],
   "source": [
    "cfg.dataset"
   ]
  },
  {
   "cell_type": "markdown",
   "metadata": {},
   "source": [
    "### Accessing Individual Dictionary Elements\n",
    "\n",
    "We can access individual items of the `cfg.dataset` dictionary like so: "
   ]
  },
  {
   "cell_type": "code",
   "execution_count": 6,
   "metadata": {},
   "outputs": [
    {
     "data": {
      "text/plain": [
       "'SemanticKITTI'"
      ]
     },
     "execution_count": 6,
     "metadata": {},
     "output_type": "execute_result"
    }
   ],
   "source": [
    "cfg.dataset['name']"
   ]
  },
  {
   "cell_type": "markdown",
   "metadata": {},
   "source": [
    "## `cfg.model` and `cfg.pipeline` Dictionaries\n",
    "\n",
    "We'll later revisit the `cfg.dataset`. Next, let's look at the `cfg.model` dictionary:"
   ]
  },
  {
   "cell_type": "code",
   "execution_count": 8,
   "metadata": {
    "scrolled": true
   },
   "outputs": [
    {
     "data": {
      "text/plain": [
       "{'name': 'RandLANet',\n",
       " 'batcher': 'DefaultBatcher',\n",
       " 'ckpt_path': None,\n",
       " 'num_neighbors': 16,\n",
       " 'num_layers': 4,\n",
       " 'num_points': 45056,\n",
       " 'num_classes': 19,\n",
       " 'ignored_label_inds': [0],\n",
       " 'sub_sampling_ratio': [4, 4, 4, 4],\n",
       " 'in_channels': 3,\n",
       " 'dim_features': 8,\n",
       " 'dim_output': [16, 64, 128, 256],\n",
       " 'grid_size': 0.06,\n",
       " 'augment': {'recenter': {'dim': [0, 1]}}}"
      ]
     },
     "execution_count": 8,
     "metadata": {},
     "output_type": "execute_result"
    }
   ],
   "source": [
    "cfg.model"
   ]
  },
  {
   "cell_type": "markdown",
   "metadata": {},
   "source": [
    "Just as in the case of `cfg.dataset`, we can access `cfg.model` dictionary items by referencing them individually:"
   ]
  },
  {
   "cell_type": "code",
   "execution_count": 13,
   "metadata": {},
   "outputs": [
    {
     "data": {
      "text/plain": [
       "[4, 4, 4, 4]"
      ]
     },
     "execution_count": 13,
     "metadata": {},
     "output_type": "execute_result"
    }
   ],
   "source": [
    "cfg.model['sub_sampling_ratio']"
   ]
  },
  {
   "cell_type": "markdown",
   "metadata": {},
   "source": [
    "`cfg.pipeline` is the last dictionary item of the `cfg` object:"
   ]
  },
  {
   "cell_type": "code",
   "execution_count": 11,
   "metadata": {},
   "outputs": [
    {
     "data": {
      "text/plain": [
       "{'name': 'SemanticSegmentation',\n",
       " 'optimizer': {'lr': 0.001},\n",
       " 'batch_size': 4,\n",
       " 'main_log_dir': './logs',\n",
       " 'max_epoch': 100,\n",
       " 'save_ckpt_freq': 5,\n",
       " 'scheduler_gamma': 0.9886,\n",
       " 'test_batch_size': 1,\n",
       " 'train_sum_dir': 'train_log',\n",
       " 'val_batch_size': 2,\n",
       " 'summary': {'record_for': [],\n",
       "  'max_pts': None,\n",
       "  'use_reference': False,\n",
       "  'max_outputs': 1}}"
      ]
     },
     "execution_count": 11,
     "metadata": {},
     "output_type": "execute_result"
    }
   ],
   "source": [
    "cfg.pipeline"
   ]
  },
  {
   "cell_type": "markdown",
   "metadata": {},
   "source": [
    "Likewise, individual dictionary items in `cfg.pipeline` can be accesed just like those of `cfg.model` and `cfg.dataset`:"
   ]
  },
  {
   "cell_type": "code",
   "execution_count": 16,
   "metadata": {},
   "outputs": [
    {
     "data": {
      "text/plain": [
       "'SemanticSegmentation'"
      ]
     },
     "execution_count": 16,
     "metadata": {},
     "output_type": "execute_result"
    }
   ],
   "source": [
    "cfg.pipeline['name']"
   ]
  },
  {
   "cell_type": "markdown",
   "metadata": {},
   "source": [
    "## Working with Individual Datasets\n",
    "\n",
    "Next, we explicitly create the `dataset` object which will hold all information from `cfg.dataset`:"
   ]
  },
  {
   "cell_type": "code",
   "execution_count": 17,
   "metadata": {},
   "outputs": [],
   "source": [
    "dataset = ml3d.datasets.SemanticKITTI(cfg.dataset)"
   ]
  },
  {
   "cell_type": "markdown",
   "metadata": {},
   "source": [
    "In the above code segment we initialize the `dataset` object with the contents of `cfg.dataset` dictionary. Next, we'll look at what properties the newly-created `dataset` object exposes with the `vars()` function:\n",
    "\n",
    "> Is `vars()` a Python-specific function???"
   ]
  },
  {
   "cell_type": "code",
   "execution_count": 18,
   "metadata": {},
   "outputs": [
    {
     "data": {
      "text/plain": [
       "{'cfg': <open3d._ml3d.utils.config.Config at 0x7f75f5339a30>,\n",
       " 'name': 'SemanticKITTI',\n",
       " 'rng': Generator(PCG64) at 0x7F75F536DE50,\n",
       " 'label_to_names': {0: 'unlabeled',\n",
       "  1: 'car',\n",
       "  2: 'bicycle',\n",
       "  3: 'motorcycle',\n",
       "  4: 'truck',\n",
       "  5: 'other-vehicle',\n",
       "  6: 'person',\n",
       "  7: 'bicyclist',\n",
       "  8: 'motorcyclist',\n",
       "  9: 'road',\n",
       "  10: 'parking',\n",
       "  11: 'sidewalk',\n",
       "  12: 'other-ground',\n",
       "  13: 'building',\n",
       "  14: 'fence',\n",
       "  15: 'vegetation',\n",
       "  16: 'trunk',\n",
       "  17: 'terrain',\n",
       "  18: 'pole',\n",
       "  19: 'traffic-sign'},\n",
       " 'num_classes': 20,\n",
       " 'remap_lut_val': array([ 0,  0,  0,  0,  0,  0,  0,  0,  0,  0,  1,  2,  0,  5,  0,  3,  5,\n",
       "         0,  4,  0,  5,  0,  0,  0,  0,  0,  0,  0,  0,  0,  6,  7,  8,  0,\n",
       "         0,  0,  0,  0,  0,  0,  9,  0,  0,  0, 10,  0,  0,  0, 11, 12, 13,\n",
       "        14,  0,  0,  0,  0,  0,  0,  0,  0,  9,  0,  0,  0,  0,  0,  0,  0,\n",
       "         0,  0, 15, 16, 17,  0,  0,  0,  0,  0,  0,  0, 18, 19,  0,  0,  0,\n",
       "         0,  0,  0,  0,  0,  0,  0,  0,  0,  0,  0,  0,  0,  0,  0,  0,  0,\n",
       "         0,  0,  0,  0,  0,  0,  0,  0,  0,  0,  0,  0,  0,  0,  0,  0,  0,\n",
       "         0,  0,  0,  0,  0,  0,  0,  0,  0,  0,  0,  0,  0,  0,  0,  0,  0,\n",
       "         0,  0,  0,  0,  0,  0,  0,  0,  0,  0,  0,  0,  0,  0,  0,  0,  0,\n",
       "         0,  0,  0,  0,  0,  0,  0,  0,  0,  0,  0,  0,  0,  0,  0,  0,  0,\n",
       "         0,  0,  0,  0,  0,  0,  0,  0,  0,  0,  0,  0,  0,  0,  0,  0,  0,\n",
       "         0,  0,  0,  0,  0,  0,  0,  0,  0,  0,  0,  0,  0,  0,  0,  0,  0,\n",
       "         0,  0,  0,  0,  0,  0,  0,  0,  0,  0,  0,  0,  0,  0,  0,  0,  0,\n",
       "         0,  0,  0,  0,  0,  0,  0,  0,  0,  0,  0,  0,  0,  0,  0,  0,  0,\n",
       "         0,  0,  0,  0,  0,  0,  0,  0,  0,  0,  0,  0,  0,  0,  1,  7,  6,\n",
       "         8,  5,  5,  4,  5,  0,  0,  0,  0,  0,  0,  0,  0,  0,  0,  0,  0,\n",
       "         0,  0,  0,  0,  0,  0,  0,  0,  0,  0,  0,  0,  0,  0,  0,  0,  0,\n",
       "         0,  0,  0,  0,  0,  0,  0,  0,  0,  0,  0,  0,  0,  0,  0,  0,  0,\n",
       "         0,  0,  0,  0,  0,  0,  0,  0,  0,  0,  0,  0,  0,  0,  0,  0,  0,\n",
       "         0,  0,  0,  0,  0,  0,  0,  0,  0,  0,  0,  0,  0,  0,  0,  0,  0,\n",
       "         0,  0,  0,  0,  0,  0,  0,  0,  0,  0,  0,  0,  0,  0,  0,  0,  0,\n",
       "         0,  0], dtype=int32),\n",
       " 'remap_lut': array([ 0, 10, 11, 15, 18, 20, 30, 31, 32, 40, 44, 48, 49, 50, 51, 70, 71,\n",
       "        72, 80, 81,  0,  0,  0,  0,  0,  0,  0,  0,  0,  0,  0,  0,  0,  0,\n",
       "         0,  0,  0,  0,  0,  0,  0,  0,  0,  0,  0,  0,  0,  0,  0,  0,  0,\n",
       "         0,  0,  0,  0,  0,  0,  0,  0,  0,  0,  0,  0,  0,  0,  0,  0,  0,\n",
       "         0,  0,  0,  0,  0,  0,  0,  0,  0,  0,  0,  0,  0,  0,  0,  0,  0,\n",
       "         0,  0,  0,  0,  0,  0,  0,  0,  0,  0,  0,  0,  0,  0,  0,  0,  0,\n",
       "         0,  0,  0,  0,  0,  0,  0,  0,  0,  0,  0,  0,  0,  0,  0,  0,  0],\n",
       "       dtype=int32)}"
      ]
     },
     "execution_count": 18,
     "metadata": {},
     "output_type": "execute_result"
    }
   ],
   "source": [
    "vars(dataset)"
   ]
  },
  {
   "cell_type": "markdown",
   "metadata": {},
   "source": [
    "We can reference any property of the dataset by using *`object.property`* syntax. For example, to find out what value the `num_classes` property holds, we type in:"
   ]
  },
  {
   "cell_type": "code",
   "execution_count": 19,
   "metadata": {},
   "outputs": [
    {
     "data": {
      "text/plain": [
       "20"
      ]
     },
     "execution_count": 19,
     "metadata": {},
     "output_type": "execute_result"
    }
   ],
   "source": [
    "dataset.num_classes"
   ]
  },
  {
   "cell_type": "markdown",
   "metadata": {},
   "source": [
    "Likewise, to extract information from a `label_to_names` **property ?????** which acts as a legend mapping a numeric code for a recognized object to a human-readable label, we type in:"
   ]
  },
  {
   "cell_type": "code",
   "execution_count": 20,
   "metadata": {},
   "outputs": [
    {
     "data": {
      "text/plain": [
       "{0: 'unlabeled',\n",
       " 1: 'car',\n",
       " 2: 'bicycle',\n",
       " 3: 'motorcycle',\n",
       " 4: 'truck',\n",
       " 5: 'other-vehicle',\n",
       " 6: 'person',\n",
       " 7: 'bicyclist',\n",
       " 8: 'motorcyclist',\n",
       " 9: 'road',\n",
       " 10: 'parking',\n",
       " 11: 'sidewalk',\n",
       " 12: 'other-ground',\n",
       " 13: 'building',\n",
       " 14: 'fence',\n",
       " 15: 'vegetation',\n",
       " 16: 'trunk',\n",
       " 17: 'terrain',\n",
       " 18: 'pole',\n",
       " 19: 'traffic-sign'}"
      ]
     },
     "execution_count": 20,
     "metadata": {},
     "output_type": "execute_result"
    }
   ],
   "source": [
    "dataset.label_to_names"
   ]
  },
  {
   "cell_type": "markdown",
   "metadata": {},
   "source": [
    "Experiment with other `dataset` properties to see how convenient it is to reference them."
   ]
  }
 ],
 "metadata": {
  "kernelspec": {
   "display_name": "Python 3 (ipykernel)",
   "language": "python",
   "name": "python3"
  },
  "language_info": {
   "codemirror_mode": {
    "name": "ipython",
    "version": 3
   },
   "file_extension": ".py",
   "mimetype": "text/x-python",
   "name": "python",
   "nbconvert_exporter": "python",
   "pygments_lexer": "ipython3",
   "version": "3.8.12"
  }
 },
 "nbformat": 4,
 "nbformat_minor": 4
}
