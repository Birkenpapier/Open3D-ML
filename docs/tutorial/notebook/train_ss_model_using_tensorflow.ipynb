{
 "cells": [
  {
   "cell_type": "markdown",
   "id": "c8d52012",
   "metadata": {},
   "source": [
    "# Training a Semantic Segmentation Model Using TensorFlow"
   ]
  },
  {
   "cell_type": "markdown",
   "id": "04ed6952",
   "metadata": {},
   "source": [
    "In this tutorial, we will learn how to train a semantic segmentation model using `TensorFlow` in a Jupyter Notebook. We assume that you are familiar with Jupyter Notebook and have created a folder *notebooks* in a folder that is relative to *ml3d*.\n",
    "\n",
    "Before you begin, ensure that you have `TensorFlow` installed. To install a compatible version of `TensorFlow`, use the requirement file:\n",
    "\n",
    "```sh\n",
    "pip install -r requirements-tensorflow.txt\n",
    "```\n",
    "\n",
    "At a high-level, we will:\n",
    "\n",
    "- Read a dataset and get a training split. For this example, we will use `SemanticKITTI` dataset.\n",
    "- Run a pre-trained model. For this example, we will use the `RandLANet` model.\n",
    "- Train a model. We will train a model using the `SemanticKITTI` dataset and `RandLANet` model.\n",
    "- Run an inference and run a test. We will run an inference using the 'training' split that use a pointcloud and display a result. However, a test is run on a pre-defined test set rather than a pass pointcloud."
   ]
  },
  {
   "cell_type": "markdown",
   "id": "8055b308",
   "metadata": {},
   "source": [
    "## Reading a dataset"
   ]
  },
  {
   "cell_type": "markdown",
   "id": "5e33bf9d",
   "metadata": {},
   "source": [
    "You can use any dataset available in the `ml3d.datasets` dataset namespace. For this example, we will use the `SemanticKITTI` dataset and visualize it. You can use any of the other dataset to load data. However, you must understand that the parameters may vary for each dataset.\n",
    "\n",
    "We will read the dataset by specifying its path and then get all splits."
   ]
  },
  {
   "cell_type": "code",
   "execution_count": 1,
   "id": "b4e344db",
   "metadata": {},
   "outputs": [
    {
     "name": "stdout",
     "output_type": "stream",
     "text": [
      "Jupyter environment detected. Enabling Open3D WebVisualizer.\n",
      "[Open3D INFO] WebRTC GUI backend enabled.\n",
      "[Open3D INFO] WebRTCWindowSystem: HTTP handshake server disabled.\n"
     ]
    },
    {
     "name": "stderr",
     "output_type": "stream",
     "text": [
      "2022-04-07 10:20:31.517091: W tensorflow/stream_executor/platform/default/dso_loader.cc:64] Could not load dynamic library 'libcudart.so.11.0'; dlerror: libcudart.so.11.0: cannot open shared object file: No such file or directory\n",
      "2022-04-07 10:20:31.517124: I tensorflow/stream_executor/cuda/cudart_stub.cc:29] Ignore above cudart dlerror if you do not have a GPU set up on your machine.\n",
      "2022-04-07 10:20:33.389558: W tensorflow/stream_executor/platform/default/dso_loader.cc:64] Could not load dynamic library 'libcudart.so.11.0'; dlerror: libcudart.so.11.0: cannot open shared object file: No such file or directory\n",
      "2022-04-07 10:20:33.389589: I tensorflow/stream_executor/cuda/cudart_stub.cc:29] Ignore above cudart dlerror if you do not have a GPU set up on your machine.\n",
      "INFO - 2022-04-07 10:20:34,543 - semantickitti - Found 1 pointclouds for training\n"
     ]
    }
   ],
   "source": [
    "# Training Semantic Segmentation Model using TensorFlow\n",
    "\n",
    "# import tensorflow\n",
    "import open3d.ml.tf as ml3d\n",
    "\n",
    "# Read a dataset by specifying the path. We are also providing the cache directory and training split.\n",
    "dataset = ml3d.datasets.SemanticKITTI(dataset_path='./SemanticKITTI/', cache_dir='./logs/cache',training_split=['00'])\n",
    "\n",
    "# Split the dataset for 'training'. You can get the other splits by passing 'validation' or 'test'\n",
    "train_split = dataset.get_split('training')\n",
    "\n",
    "# view the first 1000 frames using the visualizer\n",
    "# MyVis = ml3d.vis.Visualizer()\n",
    "# MyVis.visualize_dataset(dataset, 'training',indices=range(1))"
   ]
  },
  {
   "cell_type": "markdown",
   "id": "1138db9e",
   "metadata": {},
   "source": [
    "Now that you have visualized the dataset for training, let us train the model."
   ]
  },
  {
   "cell_type": "markdown",
   "id": "258186a2",
   "metadata": {},
   "source": [
    "## Training a model"
   ]
  },
  {
   "cell_type": "markdown",
   "id": "9653bd32",
   "metadata": {},
   "source": [
    "`TensorFlow` maps nearly all of GPU memory by default. This may result in out_of_memory error if some of the ops allocate memory independent to tensorflow. You may want to limit memory usage as and when needed by the process. Use following code right after importing tensorflow:"
   ]
  },
  {
   "cell_type": "code",
   "execution_count": 2,
   "id": "c220cfb6",
   "metadata": {},
   "outputs": [
    {
     "name": "stderr",
     "output_type": "stream",
     "text": [
      "2022-04-06 16:31:11.326658: W tensorflow/stream_executor/platform/default/dso_loader.cc:64] Could not load dynamic library 'libcuda.so.1'; dlerror: libcuda.so.1: cannot open shared object file: No such file or directory\n",
      "2022-04-06 16:31:11.326709: W tensorflow/stream_executor/cuda/cuda_driver.cc:326] failed call to cuInit: UNKNOWN ERROR (303)\n",
      "2022-04-06 16:31:11.326750: I tensorflow/stream_executor/cuda/cuda_diagnostics.cc:156] kernel driver does not appear to be running on this host (intel-VirtualBox): /proc/driver/nvidia/version does not exist\n"
     ]
    }
   ],
   "source": [
    "import tensorflow as tf\n",
    "gpus = tf.config.experimental.list_physical_devices('GPU')\n",
    "if gpus:\n",
    "    try:\n",
    "        for gpu in gpus:\n",
    "            tf.config.experimental.set_memory_growth(gpu, True)\n",
    "    except RuntimeError as e:\n",
    "        print(e)"
   ]
  },
  {
   "cell_type": "markdown",
   "id": "12d8271a",
   "metadata": {},
   "source": [
    "Refer to [this link](https://www.tensorflow.org/guide/gpu#limiting_gpu_memory_growth) for more details.\n",
    "\n",
    "Before you train a model, you must decide which model you want to use. For this example, we will use `RandLANet` model. To use models, you must import the model from `open3d.ml.tf.models`.\n",
    "\n",
    "After you load a dataset, you can initialize any model and then train the model. The following example shows how you can train a model:"
   ]
  },
  {
   "cell_type": "code",
   "execution_count": 6,
   "id": "caeea522",
   "metadata": {},
   "outputs": [
    {
     "name": "stderr",
     "output_type": "stream",
     "text": [
      "INFO - 2022-04-07 10:25:19,140 - semantic_segmentation - <open3d._ml3d.tf.models.randlanet.RandLANet object at 0x7fe900ea0e50>\n",
      "INFO - 2022-04-07 10:25:19,142 - semantic_segmentation - Logging in file : ./logs/RandLANet_SemanticKITTI_tf/log_train_2022-04-07_10:25:19.txt\n",
      "INFO - 2022-04-07 10:25:19,144 - semantickitti - Found 1 pointclouds for training\n",
      "INFO - 2022-04-07 10:25:19,308 - semantickitti - Found 1 pointclouds for validation\n",
      "INFO - 2022-04-07 10:25:19,441 - semantic_segmentation - Writing summary in train_log/00009_RandLANet_SemanticKITTI_tf.\n",
      "INFO - 2022-04-07 10:25:19,444 - semantic_segmentation - Initializing from scratch.\n",
      "INFO - 2022-04-07 10:25:19,445 - semantic_segmentation - === EPOCH 0/3 ===\n",
      "training:   0%|                                           | 0/1 [00:00<?, ?it/s]2022-04-07 10:25:20.646027: W tensorflow/core/framework/cpu_allocator_impl.cc:80] Allocation of 46137344 exceeds 10% of free system memory.\n",
      "2022-04-07 10:25:20.787692: W tensorflow/core/framework/cpu_allocator_impl.cc:80] Allocation of 46137344 exceeds 10% of free system memory.\n",
      "2022-04-07 10:25:20.794344: W tensorflow/core/framework/cpu_allocator_impl.cc:80] Allocation of 46137344 exceeds 10% of free system memory.\n",
      "2022-04-07 10:25:20.804846: W tensorflow/core/framework/cpu_allocator_impl.cc:80] Allocation of 46137344 exceeds 10% of free system memory.\n",
      "2022-04-07 10:25:20.916480: W tensorflow/core/framework/cpu_allocator_impl.cc:80] Allocation of 46137344 exceeds 10% of free system memory.\n",
      "WARNING - 2022-04-07 10:25:30,975 - deprecation - From /home/intel/miniconda3/envs/open3d/lib/python3.8/site-packages/open3d/_ml3d/tf/modules/metrics/semseg_metric.py:108: _EagerTensorBase.cpu (from tensorflow.python.framework.ops) is deprecated and will be removed in a future version.\n",
      "Instructions for updating:\n",
      "Use tf.identity instead.\n",
      "training: 100%|███████████████████████████████████| 1/1 [00:20<00:00, 20.58s/it]\n",
      "validation: 100%|█████████████████████████████████| 1/1 [00:01<00:00,  1.28s/it]\n",
      "INFO - 2022-04-07 10:25:41,313 - semantic_segmentation - loss train: 22.085  eval: 17.982\n",
      "INFO - 2022-04-07 10:25:41,341 - semantic_segmentation - acc train: 0.043  eval: 0.046\n",
      "INFO - 2022-04-07 10:25:41,342 - semantic_segmentation - iou train: 0.011  eval: 0.025\n",
      "INFO - 2022-04-07 10:25:41,732 - semantic_segmentation - Saved checkpoint at: ./logs/RandLANet_SemanticKITTI_tf/checkpoint/ckpt-1\n",
      "INFO - 2022-04-07 10:25:41,733 - semantic_segmentation - === EPOCH 1/3 ===\n",
      "training: 100%|███████████████████████████████████| 1/1 [00:05<00:00,  5.22s/it]\n",
      "validation: 100%|█████████████████████████████████| 1/1 [00:01<00:00,  1.31s/it]\n",
      "INFO - 2022-04-07 10:25:48,274 - semantic_segmentation - loss train: 28.060  eval: 20.396\n",
      "INFO - 2022-04-07 10:25:48,275 - semantic_segmentation - acc train: 0.041  eval: 0.104\n",
      "INFO - 2022-04-07 10:25:48,276 - semantic_segmentation - iou train: 0.011  eval: 0.032\n",
      "INFO - 2022-04-07 10:25:48,283 - semantic_segmentation - === EPOCH 2/3 ===\n",
      "training: 100%|███████████████████████████████████| 1/1 [00:04<00:00,  4.32s/it]\n",
      "validation: 100%|█████████████████████████████████| 1/1 [00:01<00:00,  1.25s/it]\n",
      "INFO - 2022-04-07 10:25:53,866 - semantic_segmentation - loss train: 24.108  eval: 20.917\n",
      "INFO - 2022-04-07 10:25:53,867 - semantic_segmentation - acc train: 0.043  eval: 0.036\n",
      "INFO - 2022-04-07 10:25:53,867 - semantic_segmentation - iou train: 0.011  eval: 0.023\n",
      "INFO - 2022-04-07 10:25:53,871 - semantic_segmentation - === EPOCH 3/3 ===\n",
      "training: 100%|███████████████████████████████████| 1/1 [00:04<00:00,  4.71s/it]\n",
      "validation: 100%|█████████████████████████████████| 1/1 [00:02<00:00,  2.70s/it]\n",
      "INFO - 2022-04-07 10:26:01,294 - semantic_segmentation - loss train: 23.435  eval: 26.492\n",
      "INFO - 2022-04-07 10:26:01,294 - semantic_segmentation - acc train: 0.065  eval: 0.096\n",
      "INFO - 2022-04-07 10:26:01,295 - semantic_segmentation - iou train: 0.018  eval: 0.026\n"
     ]
    }
   ],
   "source": [
    "# Training Semantic Segmentation Model using TensorFlow\n",
    "\n",
    "# Import tensorflow and the model to use for training\n",
    "import open3d.ml.tf as ml3d\n",
    "from open3d.ml.tf.models import RandLANet\n",
    "from open3d.ml.tf.pipelines import SemanticSegmentation\n",
    "\n",
    "# Read a dataset by specifying the path. We are also providing the cache directory and training split.\n",
    "dataset = ml3d.datasets.SemanticKITTI(dataset_path='SemanticKITTI/', cache_dir='./logs/cache',training_split=['00'], validation_split=['01'], test_split=['01'])\n",
    "\n",
    "# Initialize the RandLANet model with three layers.\n",
    "model = RandLANet(dim_input=3, augment={})\n",
    "pipeline = SemanticSegmentation(model=model, dataset=dataset, max_epoch=3, optimizer={'learning_rate': 0.001})\n",
    "\n",
    "# Run the training\n",
    "pipeline.run_train()"
   ]
  },
  {
   "cell_type": "markdown",
   "id": "7f7d59ce",
   "metadata": {},
   "source": [
    "## Running a test"
   ]
  },
  {
   "cell_type": "markdown",
   "id": "9648d5da",
   "metadata": {},
   "source": [
    "Running a test is very similar to training the model.\n",
    "\n",
    "We can call the `run_test()` method, and it will run inference on the test split."
   ]
  },
  {
   "cell_type": "code",
   "execution_count": 7,
   "id": "7a81f7f2",
   "metadata": {},
   "outputs": [
    {
     "name": "stderr",
     "output_type": "stream",
     "text": [
      "INFO - 2022-04-07 10:27:15,640 - semantic_segmentation - Restored from ./logs/RandLANet_SemanticKITTI_tf/checkpoint/ckpt-1\n",
      "INFO - 2022-04-07 10:27:15,642 - semantic_segmentation - Logging in file : ./logs/RandLANet_SemanticKITTI_tf/log_test_2022-04-07_10:27:15.txt\n",
      "INFO - 2022-04-07 10:27:15,651 - semantic_segmentation - Started testing\n",
      "INFO - 2022-04-07 10:27:15,653 - semantickitti - Found 1 pointclouds for test\n",
      "test:   0%|                                               | 0/1 [00:00<?, ?it/s]INFO - 2022-04-07 10:27:15,656 - semantic_segmentation - running inference\n",
      "\n",
      "  0%|                                                 | 0/83500 [00:00<?, ?it/s]\u001b[A\n",
      " 20%|██████▉                           | 16966/83500 [00:00<00:03, 18266.25it/s]\u001b[A\n",
      " 47%|███████████████▉                  | 39272/83500 [00:01<00:02, 20370.00it/s]\u001b[A\n",
      " 61%|████████████████████▋             | 50904/83500 [00:03<00:02, 14856.55it/s]\u001b[A\n",
      " 87%|█████████████████████████████▋    | 72911/83500 [00:04<00:00, 17843.96it/s]\u001b[A\n",
      " 90%|███████████████████████████████▋   | 75529/83500 [00:06<00:00, 9396.22it/s]\u001b[A\n",
      " 95%|█████████████████████████████████  | 78989/83500 [00:07<00:00, 6565.80it/s]\u001b[A\n",
      "100%|███████████████████████████████████| 83500/83500 [00:08<00:00, 9391.98it/s]\u001b[A\n",
      "/home/intel/miniconda3/envs/open3d/lib/python3.8/site-packages/open3d/_ml3d/tf/modules/metrics/semseg_metric.py:119: UserWarning: Prediction has fewer classes than ground truth. This may affect accuracy.\n",
      "  warnings.warn(\n",
      "INFO - 2022-04-07 10:27:25,530 - semantic_segmentation - Accuracy : [0.0, nan, nan, nan, nan, nan, nan, 0.0, 0.0002052725726518284, 0.0, 0.0, nan, 0.10062565172054223, 0.0, 0.0, 0.0, 0.0, 0.0, 0.95, 0.08756924369109949]\n",
      "INFO - 2022-04-07 10:27:25,531 - semantic_segmentation - IoU : [0.0, nan, nan, nan, nan, nan, nan, 0.0, 0.00020405783582089552, 0.0, 0.0, nan, 0.039842282364113045, 0.0, 0.0, 0.0, 0.0, 0.0, 0.0015947089236554087, 0.003470087426965779]\n",
      "test: 100%|███████████████████████████████████████| 1/1 [00:10<00:00, 10.01s/it]\n",
      "INFO - 2022-04-07 10:27:25,671 - semantic_segmentation - Per class Accuracy : [0.0, nan, nan, nan, nan, nan, nan, 0.0, 0.3258555467581596, 0.2153484729835552, 0.0, nan, 0.0, 0.0, 0.45795840094409207, 0.0, 0.0, 0.0, 0.0]\n",
      "INFO - 2022-04-07 10:27:25,673 - semantic_segmentation - Per class IOUs : [0.0, nan, nan, nan, 0.0, nan, nan, 0.0, 0.20509413067552604, 0.025907549302851402, 0.0, nan, 0.0, 0.0, 0.16721201104154043, 0.0, 0.0, 0.0, 0.0]\n",
      "INFO - 2022-04-07 10:27:25,673 - semantic_segmentation - Overall Accuracy : 0.083\n",
      "INFO - 2022-04-07 10:27:25,674 - semantic_segmentation - Overall IOU : 0.031\n"
     ]
    }
   ],
   "source": [
    "# Run the test\n",
    "pipeline.run_test()"
   ]
  },
  {
   "cell_type": "markdown",
   "id": "5adc93ed",
   "metadata": {},
   "source": [
    "## Running an Inference"
   ]
  },
  {
   "cell_type": "markdown",
   "id": "515a986a",
   "metadata": {},
   "source": [
    "An inference processes point cloud and displays the results based on the trained model. For this example, we will use a trained `RandLANet` model.\n",
    "\n",
    "This example gets the pipeline, model, and dataset based on our previous training example. It runs the inference based the \"train\" split and prints the results."
   ]
  },
  {
   "cell_type": "code",
   "execution_count": 8,
   "id": "3ec86a88",
   "metadata": {},
   "outputs": [
    {
     "name": "stderr",
     "output_type": "stream",
     "text": [
      "INFO - 2022-04-07 10:29:05,675 - semantickitti - Found 1 pointclouds for test\n",
      "INFO - 2022-04-07 10:29:05,678 - semantic_segmentation - running inference\n",
      "100%|███████████████████████████████████| 83500/83500 [00:09<00:00, 9063.39it/s]\n",
      "/home/intel/miniconda3/envs/open3d/lib/python3.8/site-packages/open3d/_ml3d/tf/modules/metrics/semseg_metric.py:119: UserWarning: Prediction has fewer classes than ground truth. This may affect accuracy.\n",
      "  warnings.warn(\n",
      "INFO - 2022-04-07 10:29:15,823 - semantic_segmentation - Accuracy : [0.0, nan, nan, nan, nan, nan, nan, 0.0, 0.0, 0.0, 0.0, nan, 0.10099061522419187, 0.0, 0.0, 0.0, 0.0, 0.0, 0.95, 0.08758255126868265]\n",
      "INFO - 2022-04-07 10:29:15,825 - semantic_segmentation - IoU : [0.0, nan, nan, nan, nan, nan, nan, 0.0, 0.0, 0.0, 0.0, nan, 0.04242968544642075, 0.0, 0.0, 0.0, 0.0, 0.0, 0.0012920775246514791, 0.0036434802475893524]\n"
     ]
    },
    {
     "name": "stdout",
     "output_type": "stream",
     "text": [
      "{'predict_labels': array([14, 14, 14, ...,  8,  8,  8]), 'predict_scores': array([[0.004246 , 0.000257 , 0.000623 , ..., 0.0004656, 0.0004363,\n",
      "        0.002386 ],\n",
      "       [0.00435  , 0.0002494, 0.0006337, ..., 0.0004673, 0.000422 ,\n",
      "        0.002426 ],\n",
      "       [0.004383 , 0.0002475, 0.0006332, ..., 0.000465 , 0.0004222,\n",
      "        0.00244  ],\n",
      "       ...,\n",
      "       [0.02219  , 0.011086 , 0.01326  , ..., 0.01465  , 0.01413  ,\n",
      "        0.01793  ],\n",
      "       [0.02217  , 0.01109  , 0.01327  , ..., 0.01464  , 0.01414  ,\n",
      "        0.01793  ],\n",
      "       [0.02217  , 0.01109  , 0.01327  , ..., 0.01464  , 0.01414  ,\n",
      "        0.01793  ]], dtype=float16)}\n"
     ]
    }
   ],
   "source": [
    "# Get data from the SemanticKITTI dataset using the \"test\" split\n",
    "train_split = dataset.get_split(\"test\")\n",
    "data = train_split.get_data(0)\n",
    "\n",
    "# Run the inference\n",
    "results = pipeline.run_inference(data)\n",
    "\n",
    "# Print the results\n",
    "print(results)"
   ]
  },
  {
   "cell_type": "code",
   "execution_count": null,
   "id": "bcf019b3",
   "metadata": {},
   "outputs": [],
   "source": []
  }
 ],
 "metadata": {
  "kernelspec": {
   "display_name": "Python 3 (ipykernel)",
   "language": "python",
   "name": "python3"
  },
  "language_info": {
   "codemirror_mode": {
    "name": "ipython",
    "version": 3
   },
   "file_extension": ".py",
   "mimetype": "text/x-python",
   "name": "python",
   "nbconvert_exporter": "python",
   "pygments_lexer": "ipython3",
   "version": "3.8.12"
  }
 },
 "nbformat": 4,
 "nbformat_minor": 5
}
