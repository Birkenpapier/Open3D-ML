{
 "cells": [
  {
   "cell_type": "markdown",
   "id": "48589547",
   "metadata": {},
   "source": [
    "# Training a Semantic Segmentation Model Using PyTorch"
   ]
  },
  {
   "cell_type": "markdown",
   "id": "49b68041",
   "metadata": {},
   "source": [
    "In this tutorial, we will learn how to train a semantic segmentation model using PyTorch in a Jupyter Notebook. We assume that you are familiar with Jupyter Notebook and have created a folder notebooks in a folder that is relative to ml3d.\n",
    "\n",
    "Before you begin, ensure that you have *PyTorch* installed. To install a compatible version of PyTorch, use the requirement file:\n",
    "\n",
    "```sh\n",
    "pip install -r requirements-torch-cuda.txt\n",
    "```"
   ]
  },
  {
   "cell_type": "markdown",
   "id": "2c10c2d2",
   "metadata": {},
   "source": [
    "At a high-level, we will:\n",
    "\n",
    "- Read a dataset and get a training split. For this example, we will use `SemanticKITTI` dataset.\n",
    "- Run a pre-trained model. For this example, we will use the `RandLANet` model.\n",
    "- Train a model. We will train a model using the `SemanticKITTI` dataset and `RandLANet` model.\n",
    "- Run an inference and run a test. We will run an inference using the 'training' split that use a pointcloud and display a result. However, a test is run on a pre-defined test set rather than a pass pointcloud.\n"
   ]
  },
  {
   "cell_type": "markdown",
   "id": "0f51bcdd",
   "metadata": {},
   "source": [
    "## Reading a dataset"
   ]
  },
  {
   "cell_type": "markdown",
   "id": "b69972ae",
   "metadata": {},
   "source": [
    "You can use any dataset available in the `ml3d.datasets` dataset namespace. For this example, we will use the `SemanticKITTI` dataset and visualize it. You can use any of the other dataset to load data. However, you must understand that the parameters may vary for each dataset.\n",
    "\n",
    "We will read the dataset by specifying its path and then get all splits."
   ]
  },
  {
   "cell_type": "code",
   "execution_count": 5,
   "id": "d8090925",
   "metadata": {},
   "outputs": [
    {
     "name": "stderr",
     "output_type": "stream",
     "text": [
      "INFO - 2022-04-07 10:01:51,953 - semantickitti - Found 1 pointclouds for training\n"
     ]
    }
   ],
   "source": [
    "# Training Semantic Segmentation Model using PyTorch\n",
    "\n",
    "# import torch\n",
    "import open3d.ml.torch as ml3d\n",
    "\n",
    "# Read a dataset by specifying the path. We are also providing the cache directory and training split.\n",
    "dataset = ml3d.datasets.SemanticKITTI(dataset_path='SemanticKITTI/', cache_dir='./logs/cache',training_split=['00'], validation_split=['01'], test_split=['01'])\n",
    "\n",
    "# Split the dataset for 'training'. You can get the other splits by passing 'validation' or 'test'\n",
    "train_split = dataset.get_split('training')\n",
    "\n",
    "#support of Open3d-ML visualizer in Jupyter Notebooks is in progress\n",
    "#view the frames using the visualizer\n",
    "#vis = ml3d.vis.Visualizer()\n",
    "#vis.visualize_dataset(dataset, 'training',indices=range(len(train_split)))"
   ]
  },
  {
   "cell_type": "markdown",
   "id": "b965946b",
   "metadata": {},
   "source": [
    "Now that you have visualized the dataset for training, let us train the model."
   ]
  },
  {
   "cell_type": "markdown",
   "id": "d077a5a2",
   "metadata": {},
   "source": [
    "## Training a model"
   ]
  },
  {
   "cell_type": "markdown",
   "id": "bb442bcd",
   "metadata": {},
   "source": [
    "Before you train a model, you must decide which model you want to use. For this example, we will use the `RandLANet` model. To use models, you must import the model from `open3d.ml.torch.models`.\n",
    "\n",
    "After you load a dataset, you can initialize any model and then train the model. The following example shows how you can train a model:"
   ]
  },
  {
   "cell_type": "code",
   "execution_count": 6,
   "id": "989a6579",
   "metadata": {},
   "outputs": [
    {
     "name": "stderr",
     "output_type": "stream",
     "text": [
      "test 0/1: 100%|████████████████████████| 83500/83500 [17:36:53<00:00,  1.32it/s]\n",
      "INFO - 2022-04-07 10:02:40,533 - semantic_segmentation - DEVICE : cpu\n",
      "INFO - 2022-04-07 10:02:40,545 - semantic_segmentation - Logging in file : ./logs/RandLANet_SemanticKITTI_torch/log_train_2022-04-07_10:02:40.txt\n",
      "INFO - 2022-04-07 10:02:40,610 - semantickitti - Found 1 pointclouds for train\n",
      "INFO - 2022-04-07 10:02:40,613 - semantickitti - Found 1 pointclouds for validation\n",
      "INFO - 2022-04-07 10:02:40,657 - semantic_segmentation - ckpt_path not given. Restore from the latest ckpt\n",
      "INFO - 2022-04-07 10:02:40,658 - semantic_segmentation - Loading checkpoint ./logs/RandLANet_SemanticKITTI_torch/checkpoint/ckpt_00000.pth\n",
      "INFO - 2022-04-07 10:02:41,056 - semantic_segmentation - Loading checkpoint optimizer_state_dict\n",
      "INFO - 2022-04-07 10:02:41,082 - semantic_segmentation - Loading checkpoint scheduler_state_dict\n",
      "INFO - 2022-04-07 10:02:41,100 - semantic_segmentation - Writing summary in train_log/00005_RandLANet_SemanticKITTI_torch.\n",
      "INFO - 2022-04-07 10:02:41,104 - semantic_segmentation - Started training\n",
      "INFO - 2022-04-07 10:02:41,105 - semantic_segmentation - === EPOCH 0/3 ===\n",
      "training: 100%|███████████████████████████████████| 1/1 [00:05<00:00,  5.33s/it]\n",
      "validation: 100%|█████████████████████████████████| 1/1 [00:02<00:00,  2.04s/it]\n",
      "INFO - 2022-04-07 10:02:48,503 - semantic_segmentation - Loss train: 3.181  eval: 2.993\n",
      "INFO - 2022-04-07 10:02:48,505 - semantic_segmentation - Mean acc train: 0.063  eval: 0.000\n",
      "INFO - 2022-04-07 10:02:48,506 - semantic_segmentation - Mean IoU train: 0.009  eval: 0.000\n",
      "INFO - 2022-04-07 10:02:48,607 - semantic_segmentation - Epoch   0: save ckpt to ./logs/RandLANet_SemanticKITTI_torch/checkpoint\n",
      "INFO - 2022-04-07 10:02:48,609 - semantic_segmentation - === EPOCH 1/3 ===\n",
      "training: 100%|███████████████████████████████████| 1/1 [00:04<00:00,  4.57s/it]\n",
      "validation: 100%|█████████████████████████████████| 1/1 [00:01<00:00,  1.99s/it]\n",
      "INFO - 2022-04-07 10:02:55,186 - semantic_segmentation - Loss train: 3.007  eval: 3.019\n",
      "INFO - 2022-04-07 10:02:55,187 - semantic_segmentation - Mean acc train: 0.077  eval: 0.096\n",
      "INFO - 2022-04-07 10:02:55,192 - semantic_segmentation - Mean IoU train: 0.020  eval: 0.014\n",
      "INFO - 2022-04-07 10:02:55,194 - semantic_segmentation - === EPOCH 2/3 ===\n",
      "training: 100%|███████████████████████████████████| 1/1 [00:03<00:00,  3.69s/it]\n",
      "validation: 100%|█████████████████████████████████| 1/1 [00:02<00:00,  2.07s/it]\n",
      "INFO - 2022-04-07 10:03:00,958 - semantic_segmentation - Loss train: 2.939  eval: 3.001\n",
      "INFO - 2022-04-07 10:03:00,960 - semantic_segmentation - Mean acc train: 0.112  eval: 0.094\n",
      "INFO - 2022-04-07 10:03:00,961 - semantic_segmentation - Mean IoU train: 0.024  eval: 0.017\n",
      "INFO - 2022-04-07 10:03:00,962 - semantic_segmentation - === EPOCH 3/3 ===\n",
      "training: 100%|███████████████████████████████████| 1/1 [00:03<00:00,  3.88s/it]\n",
      "validation: 100%|█████████████████████████████████| 1/1 [00:01<00:00,  1.98s/it]\n",
      "INFO - 2022-04-07 10:03:06,841 - semantic_segmentation - Loss train: 2.942  eval: 3.001\n",
      "INFO - 2022-04-07 10:03:06,843 - semantic_segmentation - Mean acc train: 0.099  eval: 0.111\n",
      "INFO - 2022-04-07 10:03:06,844 - semantic_segmentation - Mean IoU train: 0.025  eval: 0.019\n"
     ]
    }
   ],
   "source": [
    "# Training Semantic Segmentation Model using PyTorch\n",
    "\n",
    "# Import torch and the model to use for training\n",
    "import open3d.ml.torch as ml3d\n",
    "from open3d.ml.torch.models import RandLANet\n",
    "from open3d.ml.torch.pipelines import SemanticSegmentation\n",
    "\n",
    "# Read a dataset by specifying the path. We are also providing the cache directory and training split.\n",
    "# dataset = ml3d.datasets.SemanticKITTI(dataset_path='/Users/sanskara/data/SemanticKITTI/', cache_dir='./logs/cache',training_split=['00'], validation_split=['01'], test_split=['01'])\n",
    "dataset = ml3d.datasets.SemanticKITTI(dataset_path='SemanticKITTI/', cache_dir='./logs/cache',training_split=['00'], validation_split=['01'], test_split=['01'])\n",
    "\n",
    "# Initialize the RandLANet model with three layers.\n",
    "model = RandLANet(in_channels=3)\n",
    "pipeline = SemanticSegmentation(model=model, dataset=dataset, max_epoch=3, optimizer={'lr': 0.001}, num_workers=0)\n",
    "\n",
    "# Run the training\n",
    "pipeline.run_train()"
   ]
  },
  {
   "cell_type": "markdown",
   "id": "deb61bc0",
   "metadata": {},
   "source": [
    "## Running a Test"
   ]
  },
  {
   "cell_type": "markdown",
   "id": "ad40d3ea",
   "metadata": {},
   "source": [
    "Running a test is very similar to training the model.\n",
    "\n",
    "We can call the `run_test()` method, and it will run inference on the test split."
   ]
  },
  {
   "cell_type": "code",
   "execution_count": 10,
   "id": "9269a2df",
   "metadata": {},
   "outputs": [
    {
     "name": "stderr",
     "output_type": "stream",
     "text": [
      "INFO - 2022-04-07 10:11:46,055 - semantic_segmentation - DEVICE : cpu\n",
      "INFO - 2022-04-07 10:11:46,056 - semantic_segmentation - Logging in file : ./logs/RandLANet_SemanticKITTI_torch/log_test_2022-04-07_10:11:46.txt\n",
      "INFO - 2022-04-07 10:11:46,057 - semantickitti - Found 1 pointclouds for test\n",
      "INFO - 2022-04-07 10:11:46,742 - semantic_segmentation - ckpt_path not given. Restore from the latest ckpt\n",
      "INFO - 2022-04-07 10:11:46,743 - semantic_segmentation - Loading checkpoint ./logs/RandLANet_SemanticKITTI_torch/checkpoint/ckpt_00000.pth\n",
      "INFO - 2022-04-07 10:11:46,823 - semantic_segmentation - Started testing\n",
      "test 0/1: 100%|██████████████████████████| 83500/83500 [04:38<00:00, 300.24it/s]\n",
      "test 0/1: 100%|█████████████████████████| 83500/83500 [00:19<00:00, 3141.54it/s]INFO - 2022-04-07 10:12:13,619 - semantic_segmentation - Accuracy : [0.0, nan, nan, nan, nan, nan, nan, 0.0, 0.0, 0.0, 0.0, nan, 0.0, 0.0, 0.0, 0.0, 0.9023508137432188, 0.0, 0.0, 0.07519590114526824]\n",
      "INFO - 2022-04-07 10:12:13,621 - semantic_segmentation - IoU : [0.0, nan, nan, nan, nan, 0.0, 0.0, 0.0, 0.0, 0.0, 0.0, nan, 0.0, 0.0, 0.0, 0.0, 0.12928800912011607, 0.0, 0.0, 0.009234857794294005]\n",
      "INFO - 2022-04-07 10:12:13,624 - semantic_segmentation - Overall Testing Accuracy : 0.07519590114526824, mIoU : 0.009234857794294005\n",
      "INFO - 2022-04-07 10:12:13,625 - semantic_segmentation - Finished testing\n"
     ]
    }
   ],
   "source": [
    "pipeline.run_test()"
   ]
  },
  {
   "cell_type": "markdown",
   "id": "5404cae2",
   "metadata": {},
   "source": [
    "## Running an Inference\n",
    "\n",
    "An inference processes point cloud and displays the results based on the trained model. For this example, we will use a trained `RandLANet` model.\n",
    "\n",
    "This example gets the pipeline, model, and dataset based on our previous training example. It runs the inference based the \"train\" split and prints the results."
   ]
  },
  {
   "cell_type": "code",
   "execution_count": 11,
   "id": "2e6aad28",
   "metadata": {},
   "outputs": [
    {
     "name": "stderr",
     "output_type": "stream",
     "text": [
      "test 0/1: 100%|█████████████████████████| 83500/83500 [00:24<00:00, 3389.87it/s]\n",
      "INFO - 2022-04-07 10:12:17,679 - semantickitti - Found 1 pointclouds for test\n",
      "test 0/1: 100%|████████████████████████▉| 83406/83500 [00:09<00:00, 9129.51it/s]INFO - 2022-04-07 10:12:46,190 - semantic_segmentation - Accuracy : [0.0, nan, nan, nan, nan, nan, nan, 0.0, 0.0, 0.0, 0.0, nan, 0.0, 0.0, 0.0, 0.0, 0.0, 0.0, 0.0, 0.0]\n",
      "INFO - 2022-04-07 10:12:46,191 - semantic_segmentation - IoU : [0.0, nan, nan, 0.0, nan, nan, nan, 0.0, 0.0, 0.0, 0.0, nan, 0.0, 0.0, 0.0, 0.0, 0.0, 0.0, 0.0, 0.0]\n"
     ]
    },
    {
     "name": "stdout",
     "output_type": "stream",
     "text": [
      "{'predict_labels': array([3, 3, 3, ..., 3, 3, 3], dtype=int16), 'predict_scores': array([[0.00556 , 0.005356, 0.004414, ..., 0.00475 , 0.005623, 0.004128],\n",
      "       [0.005558, 0.00535 , 0.004414, ..., 0.004745, 0.005623, 0.004124],\n",
      "       [0.005558, 0.00535 , 0.004417, ..., 0.004745, 0.00562 , 0.004124],\n",
      "       ...,\n",
      "       [0.02107 , 0.01907 , 0.0178  , ..., 0.01909 , 0.01985 , 0.01637 ],\n",
      "       [0.02107 , 0.01907 , 0.0178  , ..., 0.01909 , 0.01985 , 0.01637 ],\n",
      "       [0.02107 , 0.01907 , 0.0178  , ..., 0.01909 , 0.01985 , 0.01637 ]],\n",
      "      dtype=float16)}\n"
     ]
    },
    {
     "name": "stderr",
     "output_type": "stream",
     "text": [
      "\r",
      "test 0/1: 100%|█████████████████████████| 83500/83500 [00:20<00:00, 9129.51it/s]"
     ]
    }
   ],
   "source": [
    "# Training Semantic Segmentation Model using PyTorch\n",
    "\n",
    "# Import torch and the model to use for training\n",
    "import open3d.ml.torch as ml3d\n",
    "from open3d.ml.torch.models import RandLANet\n",
    "from open3d.ml.torch.pipelines import SemanticSegmentation\n",
    "\n",
    "dataset = ml3d.datasets.SemanticKITTI(dataset_path='SemanticKITTI/', cache_dir='./logs/cache',training_split=['00'], validation_split=['01'], test_split=['01'])\n",
    "model = RandLANet(in_channels=3)\n",
    "pipeline = SemanticSegmentation(model=model, dataset=dataset, max_epoch=3, optimizer={'lr': 0.001}, num_workers=0)\n",
    "\n",
    "# Get data from the SemanticKITTI dataset using the \"train\" split\n",
    "train_split = dataset.get_split(\"test\")\n",
    "data = train_split.get_data(0)\n",
    "\n",
    "# Run the inference\n",
    "results = pipeline.run_inference(data)\n",
    "\n",
    "# Print the results\n",
    "print(results)"
   ]
  },
  {
   "cell_type": "code",
   "execution_count": null,
   "id": "b85be785",
   "metadata": {},
   "outputs": [],
   "source": []
  }
 ],
 "metadata": {
  "kernelspec": {
   "display_name": "Python 3 (ipykernel)",
   "language": "python",
   "name": "python3"
  },
  "language_info": {
   "codemirror_mode": {
    "name": "ipython",
    "version": 3
   },
   "file_extension": ".py",
   "mimetype": "text/x-python",
   "name": "python",
   "nbconvert_exporter": "python",
   "pygments_lexer": "ipython3",
   "version": "3.8.12"
  }
 },
 "nbformat": 4,
 "nbformat_minor": 5
}
