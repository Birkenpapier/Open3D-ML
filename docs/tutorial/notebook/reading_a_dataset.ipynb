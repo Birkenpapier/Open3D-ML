{
 "cells": [
  {
   "cell_type": "code",
   "execution_count": 4,
   "metadata": {},
   "outputs": [],
   "source": [
    "#import torch\n",
    "import open3d.ml.torch as ml3d"
   ]
  },
  {
   "cell_type": "code",
   "execution_count": 8,
   "metadata": {},
   "outputs": [],
   "source": [
    "#Read a dataset by specifying the path. We are also providing the cache directory and training split.\n",
    "dataset = ml3d.datasets.SemanticKITTI(dataset_path='/Users/sanskara/data/SemanticKITTI/', cache_dir='./logs/cache',training_split=['00'], validation_split=['01'], test_split=['01'])"
   ]
  },
  {
   "cell_type": "code",
   "execution_count": 7,
   "metadata": {
    "scrolled": true
   },
   "outputs": [
    {
     "name": "stderr",
     "output_type": "stream",
     "text": [
      "INFO - 2022-03-24 19:48:01,057 - semantickitti - Found 1 pointclouds for training\n"
     ]
    }
   ],
   "source": [
    "#Split the dataset for 'training'. You can get the other splits by passing 'validation' or 'test'\n",
    "train_split = dataset.get_split('training')"
   ]
  },
  {
   "cell_type": "code",
   "execution_count": 10,
   "metadata": {},
   "outputs": [
    {
     "name": "stderr",
     "output_type": "stream",
     "text": [
      "INFO - 2022-03-24 19:49:34,283 - semantickitti - Found 1 pointclouds for validation\n"
     ]
    }
   ],
   "source": [
    "#Similarly, get validataion split.\n",
    "val_split = dataset.get_split('validation')"
   ]
  },
  {
   "cell_type": "code",
   "execution_count": 6,
   "metadata": {},
   "outputs": [
    {
     "name": "stderr",
     "output_type": "stream",
     "text": [
      "INFO - 2022-03-24 19:47:58,953 - semantickitti - Found 1 pointclouds for test\n"
     ]
    }
   ],
   "source": [
    "#get test split\n",
    "test_split = dataset.get_split('test')"
   ]
  },
  {
   "cell_type": "code",
   "execution_count": 13,
   "metadata": {},
   "outputs": [
    {
     "name": "stdout",
     "output_type": "stream",
     "text": [
      "1\n",
      "1\n",
      "1\n"
     ]
    }
   ],
   "source": [
    "# Get length of splits\n",
    "print(len(train_split))\n",
    "print(len(val_split))\n",
    "print(len(test_split))"
   ]
  },
  {
   "cell_type": "code",
   "execution_count": 18,
   "metadata": {},
   "outputs": [
    {
     "name": "stdout",
     "output_type": "stream",
     "text": [
      "{'point': array([[ 5.2305943e+01,  2.2989707e-02,  1.9779946e+00],\n",
      "       [ 5.3259735e+01,  1.0695236e-01,  2.0099745e+00],\n",
      "       [ 5.3284321e+01,  2.7487758e-01,  2.0109341e+00],\n",
      "       ...,\n",
      "       [ 3.8249431e+00, -1.4261885e+00, -1.7655631e+00],\n",
      "       [ 3.8495324e+00, -1.4222100e+00, -1.7755738e+00],\n",
      "       [ 3.8631279e+00, -1.4142324e+00, -1.7805853e+00]], dtype=float32), 'feat': None, 'label': array([0, 0, 0, ..., 9, 9, 9], dtype=int32)}\n"
     ]
    }
   ],
   "source": [
    "# Query splits for data, index should be from `0` to `len(split) - 1`\n",
    "for i in range(len(train_split)):\n",
    "    data = train_split.get_data(i)\n",
    "    print(data)\n",
    "    break"
   ]
  },
  {
   "cell_type": "code",
   "execution_count": 24,
   "metadata": {},
   "outputs": [
    {
     "name": "stdout",
     "output_type": "stream",
     "text": [
      "dict_keys(['point', 'feat', 'label'])\n"
     ]
    }
   ],
   "source": [
    "data = train_split.get_data(0) # Dictionary of `point`, `feat`, and `label`\n",
    "print(data.keys())"
   ]
  },
  {
   "cell_type": "code",
   "execution_count": 23,
   "metadata": {},
   "outputs": [
    {
     "name": "stdout",
     "output_type": "stream",
     "text": [
      "{'idx': 0, 'name': '00_000001', 'path': '/Users/sanskara/data/SemanticKITTI/dataset/sequences/00/velodyne/000001.bin', 'split': 'training'}\n"
     ]
    }
   ],
   "source": [
    "attr = train_split.get_attr(0)\n",
    "print(attr)  # Dictionary containing information about the data e.g. name, path, split, etc."
   ]
  },
  {
   "cell_type": "code",
   "execution_count": null,
   "metadata": {},
   "outputs": [],
   "source": [
    "#support of Open3d-ML visualizer in Jupyter Notebooks is in progress\n",
    "#view the frames using the visualizer\n",
    "#vis = ml3d.vis.Visualizer()\n",
    "#vis.visualize_dataset(dataset, 'training',indices=range(len(train_split)))"
   ]
  }
 ],
 "metadata": {
  "kernelspec": {
   "display_name": "Python 3",
   "language": "python",
   "name": "python3"
  },
  "language_info": {
   "codemirror_mode": {
    "name": "ipython",
    "version": 3
   },
   "file_extension": ".py",
   "mimetype": "text/x-python",
   "name": "python",
   "nbconvert_exporter": "python",
   "pygments_lexer": "ipython3",
   "version": "3.7.7"
  }
 },
 "nbformat": 4,
 "nbformat_minor": 4
}
